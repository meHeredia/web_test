{
 "cells": [
  {
   "cell_type": "code",
   "execution_count": 1,
   "id": "6f1c4cc3-e1b7-4d0b-8fe6-3cbf63a8ca34",
   "metadata": {},
   "outputs": [],
   "source": [
    "import warnings\n",
    "warnings.filterwarnings('ignore')\n",
    "\n",
    "import ipywidgets as widgets\n",
    "from IPython.display import display, clear_output"
   ]
  },
  {
   "cell_type": "code",
   "execution_count": 2,
   "id": "7c489ddb-324a-4ad5-91bf-97b7b8b91c3b",
   "metadata": {},
   "outputs": [],
   "source": [
    "#!jupyter nbextension enable --py widgetsnbextension --sys-prefix\n",
    "#!jupyter serverextension enable voila --sys-prefix"
   ]
  },
  {
   "cell_type": "code",
   "execution_count": 3,
   "id": "36190863-6a26-44b9-9201-16713855a723",
   "metadata": {},
   "outputs": [],
   "source": [
    "# Image Widget\n",
    "\n",
    "file = open(\"grandma.jpg\", \"rb\")\n",
    "image = file.read()\n",
    "\n",
    "image_headline = widgets.Image(\n",
    "                    value=image,\n",
    "                    format='jpg',\n",
    "                    width='300'\n",
    "                )\n",
    "\n",
    "label_headline = widgets.Label(\n",
    "                    value='Photo by CDC on Unsplash',\n",
    "                    style={'description_width': 'initial'}\n",
    "                )\n",
    "\n",
    "vbox_headline = widgets.VBox([image_headline, label_headline])"
   ]
  },
  {
   "cell_type": "code",
   "execution_count": 4,
   "id": "c38c2e5c-e55f-485c-9492-fb0759eceb35",
   "metadata": {},
   "outputs": [],
   "source": [
    "# grandson/granddaughter\n",
    "\n",
    "grand = widgets.ToggleButtons(\n",
    "            options=['grandson', 'granddaughter']\n",
    "        )"
   ]
  },
  {
   "cell_type": "code",
   "execution_count": 5,
   "id": "083f3cb2-56a0-47aa-910e-33c135a8fad4",
   "metadata": {},
   "outputs": [],
   "source": [
    "# name\n",
    "\n",
    "name = widgets.Text(placeholder='Your name here')"
   ]
  },
  {
   "cell_type": "code",
   "execution_count": 6,
   "id": "b794cd6f-304d-4bd1-ab27-38c890515103",
   "metadata": {},
   "outputs": [],
   "source": [
    "date = widgets.DatePicker(description='Pick a Date')"
   ]
  },
  {
   "cell_type": "code",
   "execution_count": 7,
   "id": "f953a86d-8679-4a52-b852-84d954f1432f",
   "metadata": {},
   "outputs": [],
   "source": [
    "# number of friends\n",
    "\n",
    "friends = widgets.IntSlider(\n",
    "            value=3, # default value\n",
    "            min=0, \n",
    "            max=10,\n",
    "            step=1,\n",
    "            style={'description_width': 'initial', 'handle_color': '#16a085'} \n",
    "        )"
   ]
  },
  {
   "cell_type": "code",
   "execution_count": 8,
   "id": "024ffd08-cb09-426e-9f88-7ccdf9381b3d",
   "metadata": {},
   "outputs": [],
   "source": [
    "# button send\n",
    "\n",
    "button_send = widgets.Button(\n",
    "                description='Send to grandma',\n",
    "                tooltip='Send',\n",
    "                style={'description_width': 'initial'}\n",
    "            )\n",
    "\n",
    "output = widgets.Output()\n",
    "\n",
    "def on_button_clicked(event):\n",
    "    with output:\n",
    "        clear_output()\n",
    "        print(\"Sent message: \")\n",
    "        print(f\"Dear Grandma! This is your favourite {grand.value}, {name.value}.\")\n",
    "        print(f\"I would love to come over on {date.value} for dinner, if that's okay for you!\")\n",
    "        print(f\"Also, if you don't mind, I'll bring along {friends.value} hungry ghosts for your delicious food!\")\n",
    "\n",
    "button_send.on_click(on_button_clicked)\n",
    "\n",
    "vbox_result = widgets.VBox([button_send, output])"
   ]
  },
  {
   "cell_type": "code",
   "execution_count": 9,
   "id": "7d4a60dd-9123-4995-bd04-efbac41f7698",
   "metadata": {},
   "outputs": [],
   "source": [
    "# stacked right hand side\n",
    "\n",
    "text_0 = widgets.HTML(value=\"<h1>Dear Grandma!</h1>\")\n",
    "text_1 = widgets.HTML(value=\"<h2>This is your favourite</h2>\")\n",
    "text_2= widgets.HTML(value=\"<h2>I would love to come over on </h2>\")\n",
    "text_3= widgets.HTML(value=\"<h2>for dinner, if that's okay for you!</h2>\")\n",
    "text_4= widgets.HTML(value=\"<h2>Also, if you don't mind, I'll bring along </h2>\")\n",
    "text_5= widgets.HTML(value=\"<h2>hungry ghosts for dinner, if that's okay for you!</h2>\")\n",
    "\n",
    "vbox_text = widgets.VBox([text_0, text_1, grand, name, text_2, date, text_3, text_4, friends, text_5, vbox_result])"
   ]
  },
  {
   "cell_type": "code",
   "execution_count": 10,
   "id": "f887eeba-55cb-4b21-a1f6-486f179dfd27",
   "metadata": {},
   "outputs": [
    {
     "data": {
      "application/vnd.jupyter.widget-view+json": {
       "model_id": "797ed9fff8c94365b2c7362b3855660f",
       "version_major": 2,
       "version_minor": 0
      },
      "text/plain": [
       "HBox(children=(VBox(children=(Image(value=b'\\xff\\xd8\\xff\\xe0\\x00\\x10JFIF\\x00\\x01\\x01\\x01\\x00H\\x00H\\x00\\x00\\xff…"
      ]
     },
     "metadata": {},
     "output_type": "display_data"
    }
   ],
   "source": [
    "page = widgets.HBox([vbox_headline, vbox_text])\n",
    "display(page)"
   ]
  },
  {
   "cell_type": "code",
   "execution_count": 11,
   "id": "c79536f7-bba4-411a-8fde-4e5fe0ed2aed",
   "metadata": {},
   "outputs": [],
   "source": [
    "!pip freeze > requirements.txt"
   ]
  }
 ],
 "metadata": {
  "kernelspec": {
   "display_name": "Python 3 (ipykernel)",
   "language": "python",
   "name": "python3"
  },
  "language_info": {
   "codemirror_mode": {
    "name": "ipython",
    "version": 3
   },
   "file_extension": ".py",
   "mimetype": "text/x-python",
   "name": "python",
   "nbconvert_exporter": "python",
   "pygments_lexer": "ipython3",
   "version": "3.8.10"
  }
 },
 "nbformat": 4,
 "nbformat_minor": 5
}
